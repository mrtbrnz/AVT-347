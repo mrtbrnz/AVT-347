{
 "cells": [
  {
   "cell_type": "code",
   "execution_count": null,
   "id": "239eea45",
   "metadata": {},
   "outputs": [],
   "source": [
    "from IPython.core.display import display, HTML\n",
    "display(HTML(\"<style>.container { width:90% !important; }</style>\"))"
   ]
  },
  {
   "cell_type": "markdown",
   "id": "617bb62c",
   "metadata": {},
   "source": [
    "# Welcome Everyone!\n",
    "\n",
    "## This is Murat BRONZ, from ENAC (French Civil Aviation School)\n",
    "## I work on \"Flying Vehicles\" !\n",
    "\n",
    "## Contact me : murat.bronz@enac.fr"
   ]
  },
  {
   "cell_type": "markdown",
   "id": "17f5ccad",
   "metadata": {},
   "source": [
    "I am not particularly interseted in measuring GUST or WIND FIELD !\n",
    "\n",
    "However, these are almost mandatory to have for the applications that I am pushing forward!\n",
    "\n",
    "Main context why I am here today is (although I have several other related subjects...) different wind measurement techniques that we have been trying.\n",
    "\n",
    "###  Within the next 10 minutes, I will try to go over an interactive presentation including code sniplets and all the flight data.\n",
    "\n"
   ]
  },
  {
   "cell_type": "code",
   "execution_count": null,
   "id": "52d44398",
   "metadata": {},
   "outputs": [],
   "source": [
    "# Let's start by cloning the reprository into Google's server \n",
    "# Nothing will be installed into your personal computers !!! Everything is installed and run on hosted computer.\n",
    "\n",
    "!git clone --recursive https://github.com/mrtbrnz/AVT-347.git\n",
    "# git submodule update --init --recursive\n",
    "%cp -r AVT-347/* .\n",
    "%cd pprz_data\n",
    "%pip install .\n",
    "%cd ../"
   ]
  },
  {
   "cell_type": "code",
   "execution_count": null,
   "id": "7735d018",
   "metadata": {},
   "outputs": [],
   "source": [
    "from pprz_data.pprz_data import DATA"
   ]
  },
  {
   "cell_type": "markdown",
   "id": "9749cb8d",
   "metadata": {},
   "source": []
  },
  {
   "cell_type": "markdown",
   "id": "7131b2ff",
   "metadata": {},
   "source": [
    "## Autonomous Soaring  for Energy Harvesting (Focusing on Dynamic Soaring these days...)\n",
    "\n",
    "<img src=\"content/images/hotliner_laurac_circling_low_re_2.png\" width=\"1200\" />"
   ]
  },
  {
   "cell_type": "markdown",
   "id": "6a7f6244",
   "metadata": {},
   "source": [
    "## The vehicle :\n",
    "\n",
    "<img src=\"content/images/hotliner_w_probes_lowres.jpg\" width=\"1200\"/>"
   ]
  },
  {
   "cell_type": "markdown",
   "id": "3473fa5b",
   "metadata": {},
   "source": [
    "## The whole Setup :\n",
    "\n",
    "<img src=\"content/images/system_overview.jpg\" width=\"1200\" />"
   ]
  },
  {
   "cell_type": "markdown",
   "id": "22d41dde",
   "metadata": {},
   "source": [
    "## Flight Altitude\n",
    "\n",
    "<img src=\"content/plots/flight_altitude.png\" width=\"1000\" />\n",
    "\n",
    "## How does the signal look like \n",
    "\n",
    "<img src=\"content/plots/noisy_data.png\" width=\"1000\" />"
   ]
  },
  {
   "cell_type": "markdown",
   "id": "ab0c7af6",
   "metadata": {},
   "source": [
    "## We need to measure :\n",
    "- Angle of Attack\n",
    "- Airspeed\n",
    "- Attitude of the aircraft\n",
    "- GPS position, and ground velocity\n",
    "- Optionally the Heading (Magnetic and corrected True North)\n",
    "\n",
    "##  So that we can calculate the extraced power during the flight pattern"
   ]
  },
  {
   "cell_type": "markdown",
   "id": "d042d45b",
   "metadata": {},
   "source": [
    "## Obtained results over \"One Inclined Circle\"\n",
    "<img src=\"content/plots/20_11_20__11_28_20_945-969_ma_filter.png\" width=\"900\" />"
   ]
  },
  {
   "cell_type": "markdown",
   "id": "6a8daa79",
   "metadata": {},
   "source": [
    "# SmartProbe : 5-Hole Probe with on-board electronics"
   ]
  },
  {
   "cell_type": "markdown",
   "id": "8beca79d",
   "metadata": {},
   "source": [
    "## Version 0.3\n",
    "<img src=\"content/images/smartprobe_v003_pencil_small.png\" width=\"500\"/>\n",
    "\n",
    "## Version 0.4\n",
    "<img src=\"content/images/smartprobe_v4_combined.png\" width=\"800\"/>"
   ]
  },
  {
   "cell_type": "markdown",
   "id": "b8c5150f",
   "metadata": {},
   "source": [
    "## Calibration Process\n",
    "<img src=\"content/images/smartprobe_calibration.jpg\" width=\"800\" />"
   ]
  },
  {
   "cell_type": "code",
   "execution_count": null,
   "id": "8a31742e",
   "metadata": {},
   "outputs": [],
   "source": [
    "I will talk a bit more on SmartProbe on the next sections, and you can find more details on the following page (including the flight logs and example processing code)"
   ]
  },
  {
   "cell_type": "code",
   "execution_count": null,
   "id": "9db22d49",
   "metadata": {},
   "outputs": [],
   "source": [
    "Dynamic Soaring Flight Tests - Part-1 "
   ]
  },
  {
   "cell_type": "markdown",
   "id": "10a82235",
   "metadata": {},
   "source": [
    "## So SmartProbe is the sensor that is used for wind and airspeed related measurements throughout the dynamic soaring flight tests. \n",
    "\n",
    "## However we also would like to obtain \"groud truth\" "
   ]
  },
  {
   "cell_type": "markdown",
   "id": "f1ed9a1a",
   "metadata": {},
   "source": [
    "## Other Measurement Options :\n",
    "\n",
    "We can think of two extreme cases:\n",
    "- With the help of expensive and heavy measurement units\n",
    "- Almost \"sensor-less\" measurements"
   ]
  },
  {
   "cell_type": "markdown",
   "id": "292e7a47",
   "metadata": {},
   "source": [
    "## Lidar Equipment\n",
    "\n",
    "<img src=\"content/docs/windcube.png\" width=\"500\"/>"
   ]
  },
  {
   "cell_type": "markdown",
   "id": "7b9a1fbd",
   "metadata": {},
   "source": [
    "## Our Setup :\n",
    "\n",
    "<img src=\"content/images/windcube_setup.jpg\" width=\"1200\" />"
   ]
  },
  {
   "cell_type": "markdown",
   "id": "d5c5fc8b",
   "metadata": {},
   "source": [
    "<img src=\"content/docs/wind_reconstruction_1.png\" width=\"800\" />\n",
    "<img src=\"content/docs/wind_reconstruction_2.png\" width=\"800\" />"
   ]
  },
  {
   "cell_type": "code",
   "execution_count": null,
   "id": "c3021b7c",
   "metadata": {},
   "outputs": [],
   "source": [
    "# Now lets see some numbers :\n",
    "import numpy as np\n",
    "import pandas as pd\n",
    "import matplotlib\n",
    "import matplotlib.pyplot as plt"
   ]
  },
  {
   "cell_type": "code",
   "execution_count": null,
   "id": "e29166f0",
   "metadata": {},
   "outputs": [],
   "source": [
    "# filename = 'data/lidar/WLS71086_2021_05_04__11_30_09.rtd'\n",
    "filename = 'data/lidar/WLS71086_2021_04_07__12_16_00.rtd'\n",
    "data = pd.read_csv(filename , delimiter='\\t', skiprows=41, encoding='iso-8859-1')"
   ]
  },
  {
   "cell_type": "code",
   "execution_count": null,
   "id": "99311a4e",
   "metadata": {},
   "outputs": [],
   "source": [
    "data.head(6)"
   ]
  },
  {
   "cell_type": "code",
   "execution_count": null,
   "id": "14452e80",
   "metadata": {
    "scrolled": true
   },
   "outputs": [],
   "source": [
    "for column in data.columns:\n",
    "    print(column)"
   ]
  },
  {
   "cell_type": "code",
   "execution_count": null,
   "id": "230c1442",
   "metadata": {},
   "outputs": [],
   "source": [
    "# Too lazy to do it automatically...\n",
    "# altitudes = ['40', '45','50','55','60','65','70','75','80','85','90','95','100','110','120','130','140','150','160','170']\n",
    "altitudes = [40,45,50,55,60,65,70,75,80,85,90,95,100,110,120,130,140,150,160,170]"
   ]
  },
  {
   "cell_type": "code",
   "execution_count": null,
   "id": "78f12da3",
   "metadata": {},
   "outputs": [],
   "source": [
    "# data.loc[4,].values[2]\n",
    "data.iloc[:,2].values"
   ]
  },
  {
   "cell_type": "code",
   "execution_count": null,
   "id": "a62652f8",
   "metadata": {},
   "outputs": [],
   "source": [
    "cond = data.Position == 'V'\n",
    "cond = data.Position == '90'\n",
    "data[cond].iloc[:,2]"
   ]
  },
  {
   "cell_type": "code",
   "execution_count": null,
   "id": "008891dc",
   "metadata": {},
   "outputs": [],
   "source": [
    "# alt_key = str(alt)+'m Wind Speed (m/s)'\n",
    "\n",
    "fig=plt.figure(figsize=(5,10))\n",
    "for i in range(60):\n",
    "    wind_array = [data[str(alt)+'m Wind Speed (m/s)'].values[i] for alt in altitudes]\n",
    "    plt.plot(wind_array,altitudes)\n",
    "plt.ylabel('Height AGL [m]')\n",
    "plt.xlabel('Wind Speed [m/s]')"
   ]
  },
  {
   "cell_type": "code",
   "execution_count": null,
   "id": "aa179377",
   "metadata": {},
   "outputs": [],
   "source": [
    "fig=plt.figure(figsize=(5,10))\n",
    "cond = data.Position == '0'\n",
    "for i in range(10):\n",
    "    wind_array = [data[cond][str(alt)+'m Wind Speed (m/s)'].values[i] for alt in altitudes]\n",
    "    plt.plot(wind_array,altitudes)\n",
    "plt.ylabel('Height AGL [m]')\n",
    "plt.xlabel('Wind Speed [m/s]')"
   ]
  },
  {
   "cell_type": "code",
   "execution_count": null,
   "id": "daab40f8",
   "metadata": {},
   "outputs": [],
   "source": [
    "data[cond]['40m Wind Speed (m/s)'].values[263]"
   ]
  },
  {
   "cell_type": "code",
   "execution_count": null,
   "id": "7c3f3f93",
   "metadata": {},
   "outputs": [],
   "source": [
    "data[cond]['40m Wind Speed (m/s)'].plot()\n",
    "# data[cond]['80m Wind Speed (m/s)'].plot()\n",
    "data[cond]['40m Wind Speed (m/s)'].mean"
   ]
  },
  {
   "cell_type": "code",
   "execution_count": null,
   "id": "47fb97fd",
   "metadata": {},
   "outputs": [],
   "source": [
    "# fig = plt.figure(figsize=(15,10))\n",
    "# plt.plot(data1_v3.seconds.values, data1_v3.V_avg.values)\n",
    "# plt.subplot(151)\n",
    "# plt.plot(data.values, data.values)"
   ]
  },
  {
   "cell_type": "markdown",
   "id": "b5301d20",
   "metadata": {},
   "source": [
    "## Now we have a problem for altitudes below 40m !!!\n",
    "\n",
    "### We can fly our quadrotors starting from 0m !"
   ]
  },
  {
   "cell_type": "code",
   "execution_count": null,
   "id": "fa8f4a41",
   "metadata": {},
   "outputs": [],
   "source": [
    "from IPython.display import HTML\n",
    "from base64 import b64encode\n",
    "def play_video(file_path, width=1200):\n",
    "    mp4 = open(file_path,'rb').read()\n",
    "    data_url = \"data:video/mp4;base64,\" + b64encode(mp4).decode()\n",
    "    return HTML(\"\"\"<video width=\"%s\" controls><source src=\"%s\" type=\"video/mp4\"></video>\"\"\" % (width, data_url))"
   ]
  },
  {
   "cell_type": "code",
   "execution_count": null,
   "id": "90a47826",
   "metadata": {},
   "outputs": [],
   "source": [
    "play_video('content/videos/rotating_calib_run.mp4', width=1200)"
   ]
  },
  {
   "cell_type": "code",
   "execution_count": null,
   "id": "9a977c40",
   "metadata": {
    "scrolled": false
   },
   "outputs": [],
   "source": [
    "play_video('content/videos/student_project_vehicle.mp4', width=1200)"
   ]
  },
  {
   "cell_type": "code",
   "execution_count": null,
   "id": "e95b2b36",
   "metadata": {},
   "outputs": [],
   "source": [
    "# !cat ACCEL ../Wind_Estimation_Quad/07_05_2021_Voliere_Windshape/21_05_07__13_40_05.log"
   ]
  },
  {
   "cell_type": "code",
   "execution_count": null,
   "id": "6789bfe4",
   "metadata": {},
   "outputs": [],
   "source": [
    "import scipy as sp\n",
    "from scipy import signal\n",
    "\n",
    "def filter_signal(df, freq=0.2):\n",
    "    m_coeff = 0.0039063\n",
    "    v_coeff = 0.0000019\n",
    "    deg_coeff = 0.0139882\n",
    "\n",
    "    sf = df.index.shape[0]/(df.index.values[-1]-df.index.values[0])\n",
    "    print('Sampling Frequency :',sf)\n",
    "    b, a = signal.butter(4, freq/(sf/2), 'low', analog=False)\n",
    "    padlen = 0\n",
    "    alt = df.up.values*m_coeff\n",
    "    phi = signal.filtfilt(b, a, df.phi, padlen=padlen)*deg_coeff\n",
    "    theta = signal.filtfilt(b, a, df.theta, padlen=padlen)*deg_coeff # method=\"gust\")\n",
    "    psi = df.psi.values*deg_coeff\n",
    "    # psi = np.unwrap(df.psi*deg_coeff)\n",
    "    # psi = signal.filtfilt(b, a, psi, padlen=padlen)*deg_coeff # method=\"gust\")\n",
    "    return phi, theta, psi, alt\n",
    "\n",
    "def smooth_signal(sig, sf=50., freq=0.2):\n",
    "    b, a = signal.butter(4, freq/(sf/2), 'low', analog=False)\n",
    "    padlen = 0\n",
    "    return signal.filtfilt(b, a, sig, padlen=padlen)\n"
   ]
  },
  {
   "cell_type": "code",
   "execution_count": null,
   "id": "87da4ef9",
   "metadata": {},
   "outputs": [],
   "source": [
    "ac_id = '4'\n",
    "filename = 'data/quad/21_05_07__14_29_08.data' # in front of Windshape from 0-11.9-0m/s\n",
    "flight_1 = DATA(filename, ac_id, data_type='flight', sample_period=0.02)\n",
    "df1 = flight_1.df_All.copy()"
   ]
  },
  {
   "cell_type": "code",
   "execution_count": null,
   "id": "e70e46ff",
   "metadata": {},
   "outputs": [],
   "source": [
    "window=10\n",
    "df1[['phi','theta']][100:].rolling(window=window).mean().plot(figsize=(20,4)) ; plt.grid()\n",
    "# df1[['up']][100:].rolling(window=window).mean().plot(figsize=(20,4)); plt.grid()"
   ]
  },
  {
   "cell_type": "code",
   "execution_count": null,
   "id": "e5a137e1",
   "metadata": {},
   "outputs": [],
   "source": [
    "phi, theta, psi, alt = filter_signal(df1[50:500])"
   ]
  },
  {
   "cell_type": "code",
   "execution_count": null,
   "id": "bb1f52b5",
   "metadata": {},
   "outputs": [],
   "source": [
    "fig=plt.figure(figsize=(20,4))\n",
    "plt.plot(phi)\n",
    "plt.plot(theta)\n",
    "# plt.plot(psi)\n",
    "plt.grid();plt.xlabel('Time [s]');plt.ylabel('Phi & Theta [deg]')"
   ]
  },
  {
   "cell_type": "code",
   "execution_count": null,
   "id": "0ad81efe",
   "metadata": {},
   "outputs": [],
   "source": [
    "fig=plt.figure(figsize=(20,4))\n",
    "total_inclination = np.sqrt(phi**2+theta**2)\n",
    "total_inclination = smooth_signal(total_inclination, freq=10.) #0.04\n",
    "plt.plot(total_inclination) # *0.6 to approximate airspeed\n",
    "plt.grid();plt.xlabel('Time [s]');plt.ylabel('Total inclination [deg]')"
   ]
  },
  {
   "cell_type": "code",
   "execution_count": null,
   "id": "bdb5eabf",
   "metadata": {},
   "outputs": [],
   "source": [
    "!cat ../Wind_Estimation_Quad/20_05_2021_PIR_Muret/21_05_20__10_19_50.data"
   ]
  },
  {
   "cell_type": "code",
   "execution_count": null,
   "id": "dffff387",
   "metadata": {},
   "outputs": [],
   "source": [
    "ac_id = \"11\"\n",
    "filename = 'data/quad/21_05_04__13_31_43.data'\n",
    "flight_1 = DATA(filename, ac_id, data_type='flight', sample_period=0.02)\n",
    "df1 = flight_1.df_All.copy()"
   ]
  },
  {
   "cell_type": "code",
   "execution_count": null,
   "id": "a6927971",
   "metadata": {},
   "outputs": [],
   "source": [
    "df1.columns"
   ]
  },
  {
   "cell_type": "code",
   "execution_count": null,
   "id": "61175270",
   "metadata": {},
   "outputs": [],
   "source": [
    "window=10\n",
    "df1[['phi','theta']][100:].rolling(window=window).mean().plot(figsize=(20,4)) ; plt.grid()\n",
    "df1[['up']][100:].rolling(window=window).mean().plot(figsize=(20,4)); plt.grid()"
   ]
  },
  {
   "cell_type": "code",
   "execution_count": null,
   "id": "2a6c4838",
   "metadata": {},
   "outputs": [],
   "source": [
    "phi, theta, psi, alt = filter_signal(df1[50:500], freq=0.2)"
   ]
  },
  {
   "cell_type": "code",
   "execution_count": null,
   "id": "d652118a",
   "metadata": {},
   "outputs": [],
   "source": [
    "fig=plt.figure(figsize=(20,4))\n",
    "plt.plot(phi)\n",
    "plt.plot(theta)\n",
    "# plt.plot(psi)\n",
    "plt.grid();plt.xlabel('Time [s]');plt.ylabel('Phi & Theta [deg]')"
   ]
  },
  {
   "cell_type": "code",
   "execution_count": null,
   "id": "ec15b139",
   "metadata": {},
   "outputs": [],
   "source": [
    "fig=plt.figure(figsize=(20,4))\n",
    "total_inclination = np.sqrt(phi**2+theta**2)\n",
    "total_inclination = smooth_signal(total_inclination, freq=0.02)\n",
    "plt.plot(total_inclination)\n",
    "plt.grid();plt.xlabel('Time [s]');plt.ylabel('Total inclination [deg]')"
   ]
  },
  {
   "cell_type": "code",
   "execution_count": null,
   "id": "88f6adff",
   "metadata": {},
   "outputs": [],
   "source": [
    "fig=plt.figure(figsize=(10,15))\n",
    "high=13000\n",
    "plt.plot(total_inclination[:high],alt[:high], label='Climbing')\n",
    "plt.plot(total_inclination[high:],alt[high:], label='Descending')\n",
    "# plt.plot(total_inclination,alt)\n",
    "# plt.plot(psi)\n",
    "plt.grid();plt.xlabel('Total Inclination [deg]');plt.ylabel('Height AGL [m]');plt.legend()"
   ]
  },
  {
   "cell_type": "code",
   "execution_count": null,
   "id": "12bc61c4",
   "metadata": {},
   "outputs": [],
   "source": []
  },
  {
   "cell_type": "code",
   "execution_count": null,
   "id": "85abc47f",
   "metadata": {},
   "outputs": [],
   "source": [
    "play_video('content/videos/VKS.mp4', width=1200)"
   ]
  },
  {
   "cell_type": "code",
   "execution_count": null,
   "id": "e72b54f6",
   "metadata": {},
   "outputs": [],
   "source": []
  },
  {
   "cell_type": "code",
   "execution_count": null,
   "id": "ae531cd3",
   "metadata": {},
   "outputs": [],
   "source": []
  },
  {
   "cell_type": "markdown",
   "id": "50365130",
   "metadata": {},
   "source": [
    "## Open Questions :"
   ]
  },
  {
   "cell_type": "code",
   "execution_count": null,
   "id": "cbeb333c",
   "metadata": {},
   "outputs": [],
   "source": []
  },
  {
   "cell_type": "code",
   "execution_count": null,
   "id": "773553de",
   "metadata": {},
   "outputs": [],
   "source": []
  },
  {
   "cell_type": "code",
   "execution_count": null,
   "id": "d43fc3dd",
   "metadata": {},
   "outputs": [],
   "source": []
  },
  {
   "cell_type": "code",
   "execution_count": null,
   "id": "dbad7f92",
   "metadata": {},
   "outputs": [],
   "source": []
  },
  {
   "cell_type": "markdown",
   "id": "1c73b451",
   "metadata": {},
   "source": [
    "<!-- <p float=\"left\">\n",
    "    <img src=\"content/docs/wind_reconstruction_1.pdf\" width=\"100\" />\n",
    "    <img src=\"content/docs/wind_reconstruction_2.pdf\" width=\"100\" />\n",
    "</p> -->"
   ]
  },
  {
   "cell_type": "code",
   "execution_count": null,
   "id": "4c79d5cf",
   "metadata": {},
   "outputs": [],
   "source": [
    "# import scipy as sp\n",
    "# from scipy import signal\n",
    "# import csv\n",
    "# import numpy as np\n",
    "# from numpy import genfromtxt\n",
    "# import matplotlib.pyplot as plt\n",
    "# import matplotlib\n",
    "# from matplotlib.pyplot import figure, show\n",
    "# import pandas as pd\n",
    "# from scipy.interpolate import griddata, interp1d\n",
    "# from pprz_data.pprz_data import DATA\n",
    "# from numpy import linalg as la\n",
    "# import matplotlib as mpl"
   ]
  }
 ],
 "metadata": {
  "kernelspec": {
   "display_name": "Python 3",
   "language": "python",
   "name": "python3"
  },
  "language_info": {
   "codemirror_mode": {
    "name": "ipython",
    "version": 3
   },
   "file_extension": ".py",
   "mimetype": "text/x-python",
   "name": "python",
   "nbconvert_exporter": "python",
   "pygments_lexer": "ipython3",
   "version": "3.8.7"
  }
 },
 "nbformat": 4,
 "nbformat_minor": 5
}
